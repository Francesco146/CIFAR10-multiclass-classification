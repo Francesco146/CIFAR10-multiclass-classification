{
 "cells": [
  {
   "cell_type": "markdown",
   "metadata": {
    "id": "rBXmXKYIIO0k"
   },
   "source": [
    "# INIZIO"
   ]
  },
  {
   "cell_type": "code",
   "execution_count": null,
   "metadata": {
    "colab": {
     "base_uri": "https://localhost:8080/"
    },
    "id": "8u_vXzU-JzL1",
    "outputId": "72c20375-84c1-48d9-d5e7-5be74ce9cdfe"
   },
   "outputs": [],
   "source": [
    "# delete warnings from sklearn\n",
    "def warn(*args, **kwargs):\n",
    "    pass\n",
    "import warnings\n",
    "warnings.warn = warn\n",
    "\n",
    "# all imports\n",
    "import numpy as np\n",
    "import torch\n",
    "from sklearn.model_selection import KFold\n",
    "from sklearn.metrics import accuracy_score\n",
    "import torchvision\n",
    "import matplotlib.pyplot as plt\n",
    "import random\n",
    "import os\n",
    "import pandas as pd\n",
    "import joblib\n",
    "from sklearn.decomposition import PCA\n",
    "from torch.utils.data import Dataset, DataLoader\n",
    "from torchvision import transforms\n",
    "from torchvision.datasets import CIFAR10\n",
    "from PIL import Image\n",
    "from tqdm.auto import tqdm\n",
    "from sklearn.metrics import accuracy_score, f1_score\n",
    "from sklearn.svm import SVC\n",
    "from sklearn.multiclass import OneVsRestClassifier\n",
    "from sklearn.model_selection import train_test_split, GridSearchCV\n",
    "from sklearn.pipeline import make_pipeline\n",
    "from sklearn.linear_model import LogisticRegression\n",
    "from sklearn.multiclass import OneVsRestClassifier, OneVsOneClassifier\n",
    "from sklearn.metrics import confusion_matrix, precision_score, recall_score\n",
    "import seaborn as sns\n",
    "\n",
    "# transforms\n",
    "TRAIN_TRANSFORM = transforms.Compose([\n",
    "    transforms.RandomCrop(32, padding=4),\n",
    "    transforms.RandomHorizontalFlip(p=0.5),\n",
    "    transforms.RandomRotation(15),\n",
    "    transforms.ColorJitter(brightness=0.2, contrast=0.2, saturation=0.2, hue=0.1),\n",
    "    transforms.ToTensor(),\n",
    "    transforms.Normalize(mean=(0.0, 0.0, 0.0), std=(1.0, 1.0, 1.0))\n",
    "])\n",
    "TEST_TRANSFORM = transforms.Compose([\n",
    "    transforms.ToTensor(),\n",
    "    transforms.Normalize(mean=(0.0, 0.0, 0.0), std=(1.0, 1.0, 1.0))\n",
    "])\n",
    "BATCH_SIZE = 32\n",
    "CLASSES = [\"airplane\", \"automobile\", \"bird\", \"cat\", \"deer\", \"dog\", \"frog\", \"horse\", \"ship\", \"truck\"]\n",
    "EPOCHS = 5\n",
    "\n",
    "# Load CIFAR-10 dataset\n",
    "train_dataset = CIFAR10(root='./data', train=True, download=True, transform=TRAIN_TRANSFORM)\n",
    "test_dataset = CIFAR10(root='./data', train=False, download=True, transform=TEST_TRANSFORM)\n",
    "\n",
    "X_train = np.array(train_dataset.data)\n",
    "y_train = np.array(train_dataset.targets)\n",
    "\n",
    "\n",
    "print(f\"X_train shape: {X_train.shape}\")\n",
    "print(f\"y_train shape: {y_train.shape}\")\n",
    "\n",
    "X_train = X_train / 255.0\n",
    "\n",
    "X_train_flat = X_train.reshape(X_train.shape[0], -1)\n",
    "\n",
    "print(f\"X_train shape: {X_train_flat}\")\n",
    "\n",
    "X_test = np.array(test_dataset.data)\n",
    "y_test = np.array(test_dataset.targets)\n",
    "\n",
    "X_test = X_test / 255.0\n",
    "\n",
    "X_test_flat = X_test.reshape(X_test.shape[0], -1)\n",
    "\n",
    "print(f\"X_test shape: {X_test_flat.shape}\")\n",
    "print(f\"y_test shape: {y_test.shape}\")"
   ]
  },
  {
   "cell_type": "markdown",
   "metadata": {
    "id": "sMc4nj5oIi91"
   },
   "source": [
    "# VISUALIZZAZIONE CLASSI"
   ]
  },
  {
   "cell_type": "code",
   "execution_count": null,
   "metadata": {
    "colab": {
     "base_uri": "https://localhost:8080/",
     "height": 813
    },
    "id": "s6FXCujbqZ9e",
    "outputId": "b88693a9-782e-4c68-ef12-5a028401575d"
   },
   "outputs": [],
   "source": [
    "plt.figure(figsize=(10, 10))\n",
    "for i in range(len(CLASSES)):\n",
    "    # Find the index of the first image in the current class\n",
    "    for j in range(len(y_train)):\n",
    "        if y_train[j] == i:\n",
    "            idx = j\n",
    "            break\n",
    "\n",
    "    # Get the first image in the current class\n",
    "    image = X_train[idx]\n",
    "\n",
    "    # Plot the image\n",
    "    ax = plt.subplot(2, 5, i + 1)\n",
    "    plt.imshow(image)\n",
    "    plt.title(CLASSES[i])\n",
    "    plt.axis('off')\n",
    "\n",
    "plt.suptitle('Sample Images from Each Class')\n",
    "plt.tight_layout()\n",
    "plt.show()"
   ]
  },
  {
   "cell_type": "markdown",
   "metadata": {
    "id": "gCvEeeZ9Ksh8"
   },
   "source": [
    "# UTILS"
   ]
  },
  {
   "cell_type": "code",
   "execution_count": null,
   "metadata": {
    "id": "peh5RaVXqinF"
   },
   "outputs": [],
   "source": [
    "def save_model(model, model_name):\n",
    "    joblib.dump(model, f'{model_name}.pkl')\n",
    "    print(\"Model saved!\\n\")\n",
    "\n",
    "\n",
    "def load_model(model_name):\n",
    "    model = joblib.load(f'{model_name}.pkl')\n",
    "\n",
    "    return model\n",
    "\n",
    "\n",
    "def test(model, images, labels):\n",
    "    pred = model.predict(images)\n",
    "    acc = accuracy_score(labels, pred)\n",
    "    f1 = f1_score(labels, pred, average='macro')\n",
    "    precision = precision_score(labels, pred, average='macro')\n",
    "    recall = recall_score(labels, pred, average='macro')\n",
    "    print(\n",
    "        f'Test Accuracy: {acc*100:.2f}% | Test F1 score: {f1*100:.2f}% | Precision: {precision*100:.2f}% | Recall: {recall*100:.2f}%')\n",
    "    return acc, f1, precision, recall\n",
    "\n",
    "def train(pipeline, params, X, y, n_folds=5):\n",
    "    k_fold = KFold(n_splits=n_folds)\n",
    "    model = GridSearchCV(pipeline, params, cv=k_fold, scoring='accuracy', refit='accuracy', verbose=2)\n",
    "    model.fit(X, y)\n",
    "\n",
    "    print(\"Best parameters:\", model.bestparams)\n",
    "    print(f'Best score: {model.bestscore100:.2f}%\\n')\n",
    "\n",
    "    return model\n",
    "\n",
    "\n",
    "def create_comparison(models, names, X_test, y_test):\n",
    "    results = []\n",
    "    for model, name in zip(models, names):\n",
    "        acc, f1, precision, recall = test(model, X_test, y_test)\n",
    "        results.append([name, 'Accuracy', acc])\n",
    "        results.append([name, 'F1 Score', f1])\n",
    "        results.append([name, 'Precision', precision])\n",
    "        results.append([name, 'Recall', recall])\n",
    "    results = pd.DataFrame(results, columns=['Model', 'Metric', 'Score'])\n",
    "\n",
    "    plt.figure(figsize=(10, 5))\n",
    "    sns.barplot(x='Model', y='Score', hue='Metric', data=results)\n",
    "    plt.title('Test Accuracy, F1 Score, Precision, and Recall')\n",
    "    plt.xticks(rotation=45)\n",
    "    plt.tight_layout()\n",
    "    plt.show()\n",
    "    return results\n",
    "\n",
    "\n",
    "def show_confusion_matrix(model, images, labels):\n",
    "    pred = model.predict(images)\n",
    "    cm = confusion_matrix(labels, pred)\n",
    "    plt.figure(figsize=(10, 10))\n",
    "    sns.heatmap(cm, annot=True, fmt='g', cmap='Blues',\n",
    "                xticklabels=CLASSES, yticklabels=CLASSES)\n",
    "    plt.xlabel('Predicted class')\n",
    "    plt.ylabel('True class')\n",
    "    plt.title('Confusion Matrix')\n",
    "    plt.show()\n",
    "\n",
    "\n",
    "def show_first_n_predictions(model, images, labels, n=10):\n",
    "    pred = model.predict(images)\n",
    "    plt.figure(figsize=(15, 15))\n",
    "    for i in range(n):\n",
    "        plt.subplot(1, n, i + 1)\n",
    "        plt.imshow(images[i].reshape(32, 32, 3))\n",
    "        plt.title(f'True: {CLASSES[labels[i]]}\\nPred: {CLASSES[pred[i]]}')\n",
    "        plt.axis('off')\n",
    "    plt.show()"
   ]
  },
  {
   "cell_type": "code",
   "execution_count": null,
   "metadata": {
    "colab": {
     "base_uri": "https://localhost:8080/"
    },
    "id": "FXabJ4Xy6Lbb",
    "outputId": "b5043b27-9f2f-4607-da75-fad238e61de8"
   },
   "outputs": [],
   "source": [
    "from google.colab import drive\n",
    "drive.mount('/content/drive')"
   ]
  },
  {
   "cell_type": "code",
   "execution_count": null,
   "metadata": {
    "colab": {
     "base_uri": "https://localhost:8080/"
    },
    "id": "h03z_GSD6Muy",
    "outputId": "9fdfd446-52ef-487a-b563-24f7c8a77a7d"
   },
   "outputs": [],
   "source": [
    "def load_all_models(folder_path):\n",
    "    for file_name in os.listdir(folder_path):\n",
    "        if not file_name.endswith('.pkl'):\n",
    "            continue\n",
    "        model_name = file_name.split('.')[0]\n",
    "        model = load_model(f'{folder_path}/{model_name}')\n",
    "        best_params = {\n",
    "            key.replace(\"onevsoneclassifier__estimator__\", \"\")\n",
    "               .replace(\"onevsrestclassifier__estimator__\", \"\"): value\n",
    "            for key, value in model.best_params_.items()\n",
    "        }\n",
    "        best_score = f\"{model.best_score_ * 100:.2f}%\"\n",
    "        print(f\"> Model: {model_name}\")\n",
    "        print(\"\\t> Best parameters:\", best_params)\n",
    "        print(f'\\t> Best score: {best_score}\\n')\n",
    "\n",
    "\n",
    "load_all_models('/content/drive/MyDrive/Colab Notebooks/models')"
   ]
  },
  {
   "cell_type": "markdown",
   "metadata": {
    "id": "w-4DZlKsJQSW"
   },
   "source": [
    "# LOGISTIC REGRESSION 1vO"
   ]
  },
  {
   "cell_type": "code",
   "execution_count": null,
   "metadata": {
    "id": "UZ0cFhWaYbWj"
   },
   "outputs": [],
   "source": [
    "log_reg_pipeline = make_pipeline(\n",
    "    StandardScaler(), \n",
    "    PCA(n_components=0.95, svd_solver='full', whiten=True, random_state=42),\n",
    "    OneVsRestClassifier(LogisticRegression(max_iter=1000, random_state=42))\n",
    ")\n",
    "\n",
    "param_grid = {\n",
    "    'onevsrestclassifier__estimator__C': [0.1, 1, 10, 100],\n",
    "    'onevsrestclassifier__estimator__penalty': ['l1', 'l2'],\n",
    "    'onevsrestclassifier__estimator__solver': ['liblinear', 'saga']\n",
    "}\n",
    "\n",
    "model = train(log_reg_pipeline, param_grid, X_train_flat, y_train)"
   ]
  },
  {
   "cell_type": "code",
   "execution_count": null,
   "metadata": {
    "colab": {
     "base_uri": "https://localhost:8080/",
     "height": 69
    },
    "id": "-AlSXl5j21j3",
    "outputId": "3b8481a0-35d6-48ba-d3b1-9f5b2c01d78b"
   },
   "outputs": [],
   "source": [
    "save_model(model, \"log_reg_model\")"
   ]
  },
  {
   "cell_type": "markdown",
   "metadata": {
    "id": "amb92h686Bxb"
   },
   "source": [
    "# LOGISTIC REGRESSION 1v1"
   ]
  },
  {
   "cell_type": "code",
   "execution_count": null,
   "metadata": {
    "id": "NX6IXPkZ6Bxb"
   },
   "outputs": [],
   "source": [
    "log_reg_pipeline = make_pipeline(\n",
    "    StandardScaler(), \n",
    "    PCA(n_components=0.95, svd_solver='full', whiten=True, random_state=42),\n",
    "    OneVsOneClassifier(LogisticRegression(max_iter=1000, random_state=42))\n",
    "\n",
    ")\n",
    "\n",
    "param_grid = {\n",
    "    'onevsoneclassifier__estimator__C': [0.1, 1, 10, 100],\n",
    "    'onevsoneclassifier__estimator__penalty': ['l1', 'l2'],\n",
    "    'onevsoneclassifier__estimator__solver': ['liblinear', 'saga']\n",
    "}\n",
    "\n",
    "model = train(log_reg_pipeline, param_grid, X_train_flat, y_train)"
   ]
  },
  {
   "cell_type": "code",
   "execution_count": null,
   "metadata": {
    "id": "9MQM4glI6Bxb",
    "outputId": "7b14dd70-7061-4757-f7d1-64778b2ed70e"
   },
   "outputs": [],
   "source": [
    "save_model(model, \"log_reg_ovo_model\")"
   ]
  },
  {
   "cell_type": "markdown",
   "metadata": {
    "id": "xK3E-fQxKbyq"
   },
   "source": [
    "# SVM 1vO"
   ]
  },
  {
   "cell_type": "code",
   "execution_count": null,
   "metadata": {
    "id": "ytpc4CUiwIGj"
   },
   "outputs": [],
   "source": [
    "svm_pipeline = make_pipeline(\n",
    "    StandardScaler(), \n",
    "    PCA(n_components=0.95, svd_solver='full', random_state=42),\n",
    "    OneVsRestClassifier(SVC(random_state=42, kernel='rbf')))\n",
    "\n",
    "param_grid = {\n",
    "    'onevsrestclassifierestimatorC': [0.1, 1, 10, 100],\n",
    "    'onevsrestclassifierestimatorgamma': [0.1, 0.01, 'scale', 'auto']\n",
    "}\n",
    "\n",
    "model = train(svm_pipeline, param_grid, X_train_flat, y_train)"
   ]
  },
  {
   "cell_type": "code",
   "execution_count": null,
   "metadata": {
    "id": "wA1N99n2KkNK"
   },
   "outputs": [],
   "source": [
    "save_model(model, \"svm_model\")"
   ]
  },
  {
   "cell_type": "markdown",
   "metadata": {},
   "source": [
    "# SVM 1v1"
   ]
  },
  {
   "cell_type": "code",
   "execution_count": null,
   "metadata": {},
   "outputs": [],
   "source": [
    "svm_pipeline = make_pipeline(\n",
    "    StandardScaler(), \n",
    "    PCA(n_components=0.95, svd_solver='full', random_state=42),\n",
    "    OneVsOneClassifier(SVC(random_state=42, kernel='rbf')))\n",
    "\n",
    "param_grid = {\n",
    "    'onevsoneclassifierestimatorC': [0.1, 1, 10, 100],\n",
    "    'onevsoneclassifierestimatorgamma': [0.1, 0.01, 'scale', 'auto']\n",
    "}\n",
    "\n",
    "model = train(svm_pipeline, param_grid, X_train_flat, y_train)"
   ]
  },
  {
   "cell_type": "code",
   "execution_count": null,
   "metadata": {},
   "outputs": [],
   "source": [
    "save_model(model, \"svm_model\")"
   ]
  },
  {
   "cell_type": "markdown",
   "metadata": {
    "id": "aJkxCO4EKlif"
   },
   "source": [
    "# KNN 1VO"
   ]
  },
  {
   "cell_type": "code",
   "execution_count": null,
   "metadata": {
    "id": "t6A4-tM8ztA6"
   },
   "outputs": [],
   "source": [
    "knn_pipeline = make_pipeline(\n",
    "    StandardScaler(),\n",
    "    PCA(n_components=0.95, svd_solver='full', whiten=True, random_state=42),\n",
    "    OneVsRestClassifier(KNeighborsClassifier())\n",
    ")\n",
    "\n",
    "param_grid = {\n",
    "    'onevsrestclassifier__estimator__n_neighbors': [5, 7, 9, 11],\n",
    "    'onevsrestclassifier__estimator__weights': ['uniform', 'distance'],\n",
    "    'onevsrestclassifier__estimator__metric': ['euclidean', 'minkowski'] #, 'manhattan']\n",
    "}\n",
    "\n",
    "model = train(knn_pipeline, param_grid, X_train_flat, y_train)"
   ]
  },
  {
   "cell_type": "code",
   "execution_count": null,
   "metadata": {
    "colab": {
     "base_uri": "https://localhost:8080/",
     "height": 54
    },
    "id": "EffHHdDpKEnv",
    "outputId": "61c370d9-312f-46d2-fdb7-bf076eefb520"
   },
   "outputs": [],
   "source": [
    "save_model(model, \"knn_model\")"
   ]
  },
  {
   "cell_type": "markdown",
   "metadata": {},
   "source": [
    "# KNN 1V1"
   ]
  },
  {
   "cell_type": "code",
   "execution_count": null,
   "metadata": {},
   "outputs": [],
   "source": [
    "knn_pipeline = make_pipeline(\n",
    "    StandardScaler(),\n",
    "    PCA(n_components=0.95, svd_solver='full', whiten=True, random_state=42),\n",
    "    OneVsOneClassifier(KNeighborsClassifier())\n",
    ")\n",
    "\n",
    "param_grid = {\n",
    "    'onevsoneclassifier__estimator__n_neighbors': [5, 7, 9, 11],\n",
    "    'onevsoneclassifier__estimator__weights': ['uniform', 'distance'],\n",
    "    'onevsoneclassifier__estimator__metric': ['euclidean', 'minkowski']\n",
    "}\n",
    "\n",
    "model = train(knn_pipeline, param_grid, X_train_flat, y_train)"
   ]
  },
  {
   "cell_type": "code",
   "execution_count": null,
   "metadata": {},
   "outputs": [],
   "source": [
    "save_model(model, \"knn_model\")"
   ]
  },
  {
   "cell_type": "markdown",
   "metadata": {
    "id": "3kAR_KM_HzXm"
   },
   "source": [
    "# GNB 1vO"
   ]
  },
  {
   "cell_type": "code",
   "execution_count": null,
   "metadata": {
    "id": "1DkO8CgT0aM2"
   },
   "outputs": [],
   "source": [
    "nb_pipeline = make_pipeline(\n",
    "    StandardScaler(),\n",
    "    PCA(n_components=0.95, svd_solver='full', random_state=42),\n",
    "    OneVsRestClassifier(GaussianNB())\n",
    ")\n",
    "\n",
    "param_grid = {\n",
    "    'onevsrestclassifier__estimator__var_smoothing': [1e-11, 1e-10, 1e-9, 1e-8, 1e-7]\n",
    "}\n",
    "\n",
    "k_fold = KFold(n_splits=5)\n",
    "\n",
    "model = train(nb_pipeline, param_grid, X_train_flat, y_train)"
   ]
  },
  {
   "cell_type": "code",
   "execution_count": null,
   "metadata": {
    "colab": {
     "base_uri": "https://localhost:8080/",
     "height": 54
    },
    "id": "dKtAH7ZZFWq1",
    "outputId": "92c185c9-62d2-4c9a-e2e9-f88b5fb9c6f0"
   },
   "outputs": [],
   "source": [
    "save_model(model, \"gnb_model\")"
   ]
  },
  {
   "cell_type": "markdown",
   "metadata": {
    "id": "UTW-3q3g6Bxd"
   },
   "source": [
    "# GNB 1v1"
   ]
  },
  {
   "cell_type": "code",
   "execution_count": null,
   "metadata": {
    "id": "Bl0kQMzc6Bxd"
   },
   "outputs": [],
   "source": [
    "nb_pipeline = make_pipeline(\n",
    "    StandardScaler(),\n",
    "    PCA(n_components=0.95, svd_solver='full', random_state=42),\n",
    "    OneVsOneClassifier(GaussianNB())\n",
    ")\n",
    "\n",
    "param_grid = {\n",
    "    'onevsoneclassifier__estimator__var_smoothing': [1e-11, 1e-10, 1e-9, 1e-8, 1e-7]\n",
    "}\n",
    "\n",
    "model = train(nb_pipeline, param_grid, X_train_flat, y_train)"
   ]
  },
  {
   "cell_type": "code",
   "execution_count": null,
   "metadata": {
    "id": "eIJtXull6Bxd",
    "outputId": "85b6691c-5aca-4649-842b-029e0235072a"
   },
   "outputs": [],
   "source": [
    "save_model(model, \"gnb_ovo_model\")"
   ]
  },
  {
   "cell_type": "markdown",
   "metadata": {
    "id": "qHknBktu6Bxe"
   },
   "source": [
    "# RANDOM FOREST 1VO"
   ]
  },
  {
   "cell_type": "code",
   "execution_count": null,
   "metadata": {
    "id": "HpxaZyre6Bxe"
   },
   "outputs": [],
   "source": [
    "rfc_pipeline = make_pipeline(\n",
    "    StandardScaler(),\n",
    "    PCA(n_components=0.95, svd_solver='full', random_state=42),\n",
    "    OneVsRestClassifier(RandomForestClassifier(random_state=42))\n",
    ")\n",
    "\n",
    "param_grid = {\n",
    "    'onevsrestclassifier__estimator__n_estimators': [10, 50, 100],\n",
    "    'onevsrestclassifier__estimator__max_features': ['sqrt', 'log2'],\n",
    "    'onevsrestclassifier__estimator__min_samples_leaf': [1, 2, 4]\n",
    "}\n",
    "\n",
    "model = train(rfc_pipeline, param_grid, X_train_flat, y_train)"
   ]
  },
  {
   "cell_type": "code",
   "execution_count": null,
   "metadata": {
    "id": "G6_ZrnLs6Bxe",
    "outputId": "dd4fca2e-e1df-4fa0-a8c1-2ce812b9dc87"
   },
   "outputs": [],
   "source": [
    "save_model(model, \"rfc_ovr_with_none_model\")"
   ]
  },
  {
   "cell_type": "markdown",
   "metadata": {
    "id": "mA7fKmF66Bxe"
   },
   "source": [
    "# RANDOM FOREST 1V1"
   ]
  },
  {
   "cell_type": "code",
   "execution_count": null,
   "metadata": {
    "id": "hV-KArS86Bxf"
   },
   "outputs": [],
   "source": [
    "rfc_pipeline = make_pipeline(\n",
    "    StandardScaler(),\n",
    "    PCA(n_components=0.95, svd_solver='full', random_state=42),\n",
    "    OneVsOneClassifier(RandomForestClassifier(random_state=42))\n",
    ")\n",
    "\n",
    "param_grid = {\n",
    "    'onevsoneclassifier__estimator__n_estimators': [10, 50, 100],\n",
    "    'onevsoneclassifier__estimator__max_features': ['sqrt', 'log2'],\n",
    "    'onevsoneclassifier__estimator__min_samples_leaf': [1, 2, 4]\n",
    "}\n",
    "\n",
    "model = train(rfc_pipeline, param_grid, X_train_flat, y_train)"
   ]
  },
  {
   "cell_type": "code",
   "execution_count": null,
   "metadata": {
    "id": "riIx4QbF6Bxf",
    "outputId": "a3d8d904-04c9-43fb-c373-3e638fc98c30"
   },
   "outputs": [],
   "source": [
    "save_model(model, \"rfc_ovo_with_none_model\")"
   ]
  },
  {
   "cell_type": "markdown",
   "metadata": {
    "id": "QGcvHKXP6Bxf"
   },
   "source": [
    "# COMPARISON"
   ]
  },
  {
   "cell_type": "code",
   "execution_count": null,
   "metadata": {
    "id": "eW0ueZ3m6Bxf"
   },
   "outputs": [],
   "source": [
    "log_reg_ovr_model = load_model(\"log_reg_ovr_model\")\n",
    "log_reg_ovo_model = load_model(\"log_reg_ovo_model\")\n",
    "gnb_ovr_model = load_model(\"gnb_ovr_model\")\n",
    "gnb_ovo_model = load_model(\"gnb_ovo_model\")\n",
    "knn_ovr_model = load_model(\"knn_ovr_model\")\n",
    "knn_ovo_model = load_model(\"knn_ovo_model\")\n",
    "rfc_ovr_model = load_model(\"rfc_ovr_model\")\n",
    "rfc_ovo_model = load_model(\"rfc_ovo_model\")\n",
    "svm_ovr_model = load_model(\"svm_ovr_model\")\n",
    "svm_ovo_model = load_model(\"svm_ovo_model\")\n",
    "\n",
    "comparison = create_comparison(\n",
    "    [\n",
    "        log_reg_ovr_model,\n",
    "        log_reg_ovo_model,\n",
    "        gnb_ovr_model,\n",
    "        gnb_ovo_model,\n",
    "        knn_ovr_model,\n",
    "        knn_ovo_model,\n",
    "        rfc_ovr_model,\n",
    "        rfc_ovo_model,\n",
    "        svm_ovr_model,\n",
    "        svm_ovo_model\n",
    "    ],\n",
    "    [\n",
    "        \"Logistic Regression (OvR)\",\n",
    "        \"Logistic Regression (OvO)\",\n",
    "        \"Gaussian Naive Bayes (OvR)\",\n",
    "        \"Gaussian Naive Bayes (OvO)\",\n",
    "        \"K-Nearest Neighbors (OvR)\",\n",
    "        \"K-Nearest Neighbors (OvO)\",\n",
    "        \"Random Forest (OvR)\",\n",
    "        \"Random Forest (OvO)\",\n",
    "        \"Support Vector Machine (OvR)\",\n",
    "        \"Support Vector Machine (OvO)\"\n",
    "    ],\n",
    "    X_test_flat,\n",
    "    y_test\n",
    ")\n",
    "\n",
    "print(\"Logistic Regression (OvR)\")\n",
    "show_confusion_matrix(log_reg_ovr_model, X_test_flat, y_test)\n",
    "show_first_n_predictions(log_reg_ovr_model, X_test_flat, y_test)\n",
    "\n",
    "print(\"Logistic Regression (OvO)\")\n",
    "show_confusion_matrix(log_reg_ovo_model, X_test_flat, y_test)\n",
    "show_first_n_predictions(log_reg_ovo_model, X_test_flat, y_test)\n",
    "\n",
    "print(\"Gaussian Naive Bayes (OvR)\")\n",
    "show_confusion_matrix(gnb_ovr_model, X_test_flat, y_test)\n",
    "show_first_n_predictions(gnb_ovr_model, X_test_flat, y_test)\n",
    "\n",
    "print(\"Gaussian Naive Bayes (OvO)\")\n",
    "show_confusion_matrix(gnb_ovo_model, X_test_flat, y_test)\n",
    "show_first_n_predictions(gnb_ovo_model, X_test_flat, y_test)\n",
    "\n",
    "print(\"K-Nearest Neighbors (OvR)\")\n",
    "show_confusion_matrix(knn_ovr_model, X_test_flat, y_test)\n",
    "show_first_n_predictions(knn_ovr_model, X_test_flat, y_test)\n",
    "\n",
    "print(\"K-Nearest Neighbors (OvO)\")\n",
    "show_confusion_matrix(knn_ovo_model, X_test_flat, y_test)\n",
    "show_first_n_predictions(knn_ovo_model, X_test_flat, y_test)\n",
    "\n",
    "print(\"Random Forest (OvR)\")\n",
    "show_confusion_matrix(rfc_ovr_model, X_test_flat, y_test)\n",
    "show_first_n_predictions(rfc_ovr_model, X_test_flat, y_test)\n",
    "\n",
    "print(\"Random Forest (OvO)\")\n",
    "show_confusion_matrix(rfc_ovo_model, X_test_flat, y_test)\n",
    "show_first_n_predictions(rfc_ovo_model, X_test_flat, y_test)\n",
    "\n",
    "print(\"Support Vector Machine (OvR)\")\n",
    "show_confusion_matrix(svm_ovr_model, X_test_flat, y_test)\n",
    "show_first_n_predictions(svm_ovr_model, X_test_flat, y_test)\n",
    "\n",
    "print(\"Support Vector Machine (OvO)\")\n",
    "show_confusion_matrix(svm_ovo_model, X_test_flat, y_test)\n",
    "show_first_n_predictions(svm_ovo_model, X_test_flat, y_test)"
   ]
  }
 ],
 "metadata": {
  "colab": {
   "collapsed_sections": [
    "rBXmXKYIIO0k",
    "sMc4nj5oIi91",
    "gCvEeeZ9Ksh8",
    "w-4DZlKsJQSW",
    "xK3E-fQxKbyq",
    "3kAR_KM_HzXm",
    "1MQSc-toH7dj"
   ],
   "provenance": []
  },
  "kernelspec": {
   "display_name": ".venv",
   "language": "python",
   "name": "python3"
  },
  "language_info": {
   "name": "python",
   "version": "3.11.11"
  }
 },
 "nbformat": 4,
 "nbformat_minor": 0
}
